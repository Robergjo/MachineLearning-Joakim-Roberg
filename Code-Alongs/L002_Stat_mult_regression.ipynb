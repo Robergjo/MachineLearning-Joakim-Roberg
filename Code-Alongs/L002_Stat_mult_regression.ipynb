{
 "cells": [
  {
   "cell_type": "code",
   "execution_count": null,
   "metadata": {},
   "outputs": [],
   "source": [
    "import numpy as np\n",
    "import scipy.stats as stats\n",
    "\n",
    "# data columns: Time(s) Height(mm) Diameter (mm) Lenght (mm) Observer (0|1)\n",
    "D = np.loadtxt(\"\")\n",
    "\n",
    "\n",
    "# prepare data for analysis\n"
   ]
  },
  {
   "cell_type": "code",
   "execution_count": null,
   "metadata": {},
   "outputs": [],
   "source": [
    "b = np.linalg.inv(X.T @ X) @ X.T @ y"
   ]
  }
 ],
 "metadata": {
  "kernelspec": {
   "display_name": "GitHub-88SFu75Z",
   "language": "python",
   "name": "python3"
  },
  "language_info": {
   "name": "python",
   "version": "3.12.0"
  }
 },
 "nbformat": 4,
 "nbformat_minor": 2
}
